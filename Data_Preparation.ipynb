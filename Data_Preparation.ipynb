{
  "nbformat": 4,
  "nbformat_minor": 0,
  "metadata": {
    "kernelspec": {
      "display_name": "Python 3",
      "language": "python",
      "name": "python3"
    },
    "language_info": {
      "codemirror_mode": {
        "name": "ipython",
        "version": 3
      },
      "file_extension": ".py",
      "mimetype": "text/x-python",
      "name": "python",
      "nbconvert_exporter": "python",
      "pygments_lexer": "ipython3",
      "version": "3.9.2"
    },
    "colab": {
      "name": "Data Prep.ipynb",
      "provenance": [],
      "collapsed_sections": []
    }
  },
  "cells": [
    {
      "cell_type": "code",
      "metadata": {
        "id": "_r8qpxKHBS7x"
      },
      "source": [
        "import shutil\n",
        "import os\n",
        "import pandas as pd\n",
        "import glob"
      ],
      "execution_count": null,
      "outputs": []
    },
    {
      "cell_type": "code",
      "metadata": {
        "tags": [],
        "id": "t8h4koqyBS79"
      },
      "source": [
        "training_list_dir = r'mangoes\\sets\\train.txt'\n",
        "f = open(training_list_dir,mode='r')\n",
        "images_dir = r'mangoes\\images'\n",
        "annotations_dir = r'mangoes\\annotations'\n",
        "train_images_dir = r'mangoes\\train_images'\n",
        "train_annotations_dir = r'mangoes\\train_annotations'\n",
        "test_images_dir = r'mangoes\\test_images'\n",
        "test_annotations_dir = r'mangoes/test_annotations'"
      ],
      "execution_count": null,
      "outputs": []
    },
    {
      "cell_type": "code",
      "metadata": {
        "id": "2M3EDW_gBS8A"
      },
      "source": [
        "with open(training_list_dir) as f:\n",
        "    files_list = f.read().splitlines() "
      ],
      "execution_count": null,
      "outputs": []
    },
    {
      "cell_type": "code",
      "metadata": {
        "id": "8y6Jszk2BS8C"
      },
      "source": [
        "for i in files_list:\n",
        "    shutil.copy(os.path.join(images_dir,(i+'.png')),train_images_dir)"
      ],
      "execution_count": null,
      "outputs": []
    },
    {
      "cell_type": "code",
      "metadata": {
        "id": "h-eLWqzOBS8D"
      },
      "source": [
        "for i in files_list:\n",
        "    shutil.copy(os.path.join(annotations_dir,(i+'.csv')),train_annotations_dir)"
      ],
      "execution_count": null,
      "outputs": []
    },
    {
      "cell_type": "code",
      "metadata": {
        "id": "qpUO0DSZBS8D"
      },
      "source": [
        "csv_list = os.listdir(train_annotations_dir)\n",
        "j = csv_list[1]\n",
        "df=pd.read_csv(os.path.join(train_annotations_dir,j))\n",
        "df['filename'] = j.split('.csv')[0]\n",
        "#Add values in columns to get right dimensions of bounding boxes\n",
        "df['dx_new']= df['x']+df['dx']\n",
        "df['dy_new']= df['y']+df['dy']"
      ],
      "execution_count": null,
      "outputs": []
    },
    {
      "cell_type": "code",
      "metadata": {
        "id": "9Mi5GFW5BS8E"
      },
      "source": [
        "#Combine individual csv filesused for training\n",
        "os.chdir(r'<root>\\mangoes\\train_annotations')\n",
        "extension = 'csv'\n",
        "all_filenames = [i for i in glob.glob('*.{}'.format(extension))]\n",
        "combined_csv = pd.concat([pd.read_csv(f) for f in all_filenames ])"
      ],
      "execution_count": null,
      "outputs": []
    },
    {
      "cell_type": "code",
      "metadata": {
        "id": "sNSC-nqXBS8F"
      },
      "source": [
        "combined_csv.to_csv( \"<root>\\mangoes\\combined_csv.csv\", index=False, encoding='utf-8-sig')"
      ],
      "execution_count": null,
      "outputs": []
    },
    {
      "cell_type": "code",
      "metadata": {
        "id": "Zt2TNJ2XBS8F"
      },
      "source": [
        "test_list_dir = r'mangoes\\sets\\test.txt'\n",
        "f = open(test_list_dir,mode='r')"
      ],
      "execution_count": null,
      "outputs": []
    },
    {
      "cell_type": "code",
      "metadata": {
        "id": "qSG0_LoRBS8F"
      },
      "source": [
        "with open(test_list_dir) as f:\n",
        "    files_list = f.read().splitlines() "
      ],
      "execution_count": null,
      "outputs": []
    },
    {
      "cell_type": "code",
      "metadata": {
        "id": "nxVoxq6sBS8G"
      },
      "source": [
        "for i in files_list:\n",
        "    shutil.copy(os.path.join(images_dir,(i+'.png')),test_images_dir)"
      ],
      "execution_count": null,
      "outputs": []
    },
    {
      "cell_type": "code",
      "metadata": {
        "id": "38l2jd-UBS8G"
      },
      "source": [
        "for i in files_list:\n",
        "    shutil.copy(os.path.join(annotations_dir,(i+'.csv')),test_annotations_dir)"
      ],
      "execution_count": null,
      "outputs": []
    },
    {
      "cell_type": "code",
      "metadata": {
        "id": "K4SXbEeNBS8H"
      },
      "source": [
        "csv_list = os.listdir(test_annotations_dir)\n",
        "for j in csv_list:\n",
        "    df=pd.read_csv(os.path.join(test_annotations_dir,j))\n",
        "    df['filename'] = j.split('.csv')[0]\n",
        "    df['dx_new']= df['x']+df['dx']\n",
        "    df['dy_new']= df['y']+df['dy']\n",
        "    df.to_csv(os.path.join(test_annotations_dir,j))"
      ],
      "execution_count": null,
      "outputs": []
    },
    {
      "cell_type": "code",
      "metadata": {
        "id": "Q825j1SoBS8H"
      },
      "source": [
        "#Combine individual csv filesused for testing\n",
        "os.chdir(r'<root>\\mangoes\\test_annotations')\n",
        "extension = 'csv'\n",
        "all_filenames = [i for i in glob.glob('*.{}'.format(extension))]\n",
        "combined_csv_test = pd.concat([pd.read_csv(f) for f in all_filenames ])"
      ],
      "execution_count": null,
      "outputs": []
    },
    {
      "cell_type": "code",
      "metadata": {
        "id": "v4jyeQqHBS8I"
      },
      "source": [
        "combined_csv_test.to_csv('<root>\\mangoes\\combined_test\\combined_test_csv.csv')"
      ],
      "execution_count": null,
      "outputs": []
    }
  ]
}